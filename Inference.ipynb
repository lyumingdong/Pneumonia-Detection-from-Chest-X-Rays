{
 "cells": [
  {
   "cell_type": "code",
   "execution_count": 1,
   "metadata": {},
   "outputs": [
    {
     "name": "stderr",
     "output_type": "stream",
     "text": [
      "Using TensorFlow backend.\n"
     ]
    }
   ],
   "source": [
    "import numpy as np\n",
    "import pandas as pd\n",
    "import pydicom\n",
    "%matplotlib inline\n",
    "import matplotlib.pyplot as plt\n",
    "import keras \n",
    "import cv2"
   ]
  },
  {
   "cell_type": "code",
   "execution_count": 2,
   "metadata": {},
   "outputs": [],
   "source": [
    "# This function reads in a .dcm file, checks the important fields for our device, and returns a numpy array\n",
    "# of just the imaging data\n",
    "def check_dicom(filename): \n",
    "    # todo\n",
    "    \n",
    "    print('Load file {} ...'.format(filename))\n",
    "    ds = pydicom.dcmread(filename)     \n",
    "    try:\n",
    "        assert(ds.BodyPartExamined=='CHEST')\n",
    "        assert(ds.Modality=='DX')\n",
    "        assert(ds.PatientPosition in ['AP', 'PA'])\n",
    "    except Exception as e:\n",
    "        print('File {} contains invalid data'.format(filename))\n",
    "        return None\n",
    "    img = ds.pixel_array\n",
    "    return img\n",
    "    \n",
    "    \n",
    "# This function takes the numpy array output by check_dicom and \n",
    "# runs the appropriate pre-processing needed for our model input\n",
    "def preprocess_image(img,img_mean,img_std,img_size): \n",
    "    # todo\n",
    "    proc_img = cv2.resize(img, img_size)\n",
    "    proc_img = cv2.cvtColor(proc_img, cv2.COLOR_GRAY2RGB)\n",
    "    proc_img = (proc_img - img_mean)/img_std\n",
    "    return np.expand_dims(proc_img, 0)\n",
    "\n",
    "# This function loads in our trained model w/ weights and compiles it \n",
    "def load_model(model_path, weight_path):\n",
    "    with open(model_path, 'r') as json_file:\n",
    "        model_file = json_file.read()\n",
    "        model = keras.models.model_from_json(model_file)\n",
    "        model.load_weights(weight_path)\n",
    "    \n",
    "    return model\n",
    "\n",
    "# This function uses our device's threshold parameters to predict whether or not\n",
    "# the image shows the presence of pneumonia using our trained model\n",
    "def predict_image(model, img, thresh): \n",
    "    \n",
    "    return model.predict(img)>thresh "
   ]
  },
  {
   "cell_type": "code",
   "execution_count": 4,
   "metadata": {},
   "outputs": [
    {
     "name": "stdout",
     "output_type": "stream",
     "text": [
      "Load file test1.dcm ...\n",
      "Pred :False\n",
      "Load file test2.dcm ...\n",
      "Pred :False\n",
      "Load file test3.dcm ...\n",
      "Pred :True\n",
      "Load file test4.dcm ...\n",
      "File test4.dcm contains invalid data\n",
      "Load file test5.dcm ...\n",
      "File test5.dcm contains invalid data\n",
      "Load file test6.dcm ...\n",
      "File test6.dcm contains invalid data\n"
     ]
    }
   ],
   "source": [
    "test_dicoms = ['test1.dcm','test2.dcm','test3.dcm','test4.dcm','test5.dcm','test6.dcm']\n",
    "\n",
    "model_path = \"my_model.json\"\n",
    "weight_path = \"xray_class_my_model.best.hdf5\"\n",
    "\n",
    "IMG_SIZE=(224,224) # This might be different if you did not use vgg16\n",
    "\n",
    "my_model = load_model(model_path, weight_path)\n",
    "thresh = 0.55\n",
    "\n",
    "# use the .dcm files to test your prediction\n",
    "for i in test_dicoms:\n",
    "    \n",
    "    img = np.array([])\n",
    "    img = check_dicom(i)\n",
    "    if img is None:\n",
    "        continue\n",
    "    img_mean = np.mean(img)\n",
    "    img_std = np.std(img)\n",
    "        \n",
    "    img_proc = preprocess_image(img,img_mean,img_std,IMG_SIZE)\n",
    "    pred = predict_image(my_model,img_proc,thresh)\n",
    "    print(\"Pred :\" + str(pred[0,0]))"
   ]
  },
  {
   "cell_type": "code",
   "execution_count": null,
   "metadata": {},
   "outputs": [],
   "source": []
  },
  {
   "cell_type": "code",
   "execution_count": null,
   "metadata": {},
   "outputs": [],
   "source": []
  }
 ],
 "metadata": {
  "kernelspec": {
   "display_name": "Python 3",
   "language": "python",
   "name": "python3"
  },
  "language_info": {
   "codemirror_mode": {
    "name": "ipython",
    "version": 3
   },
   "file_extension": ".py",
   "mimetype": "text/x-python",
   "name": "python",
   "nbconvert_exporter": "python",
   "pygments_lexer": "ipython3",
   "version": "3.7.6"
  }
 },
 "nbformat": 4,
 "nbformat_minor": 2
}
